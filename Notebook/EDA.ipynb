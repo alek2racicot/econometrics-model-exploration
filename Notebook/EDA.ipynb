{
 "cells": [
  {
   "cell_type": "code",
   "execution_count": 0,
   "metadata": {
    "application/vnd.databricks.v1+cell": {
     "cellMetadata": {
      "byteLimit": 2048000,
      "rowLimit": 10000
     },
     "inputWidgets": {},
     "nuid": "5903be37-4669-44ca-a28d-353694a031a9",
     "showTitle": false,
     "tableResultSettingsMap": {},
     "title": ""
    }
   },
   "outputs": [],
   "source": [
    "import pandas as pd \n",
    "import numpy as np\n",
    "import statsmodels.api as sm\n",
    "import matplotlib.pyplot as plt"
   ]
  },
  {
   "cell_type": "code",
   "execution_count": 0,
   "metadata": {
    "application/vnd.databricks.v1+cell": {
     "cellMetadata": {
      "byteLimit": 2048000,
      "rowLimit": 10000
     },
     "inputWidgets": {},
     "nuid": "838e5b20-b56d-4e06-990e-ec8a3576a1d7",
     "showTitle": false,
     "tableResultSettingsMap": {},
     "title": ""
    }
   },
   "outputs": [],
   "source": [
    "sql = \"\"\"\n",
    "    with rt_suite_aggregated as (\n",
    "        select\n",
    "            rt.flightkey,\n",
    "            rt.route,\n",
    "            rt.charge_dt,\n",
    "            rt.flight_dt,\n",
    "            rt.chargeproduct,\n",
    "            flt.capacity,\n",
    "\n",
    "            -- route carachteristics\n",
    "            rtmap.type, \n",
    "            rtmap.region,\n",
    "\n",
    "            -- statistics & metrics\n",
    "            sum(rt.unt_net) as total_pax,\n",
    "            sum(rt.rev_net) as total_rev\n",
    "\n",
    "        from \n",
    "            data_experience_commercial.cbt_1423_rtsuite.master rt\n",
    "        join \n",
    "            data_prod.silver_sanezdb.routemap rtmap on rt.route = rtmap.route\n",
    "        join\n",
    "            data_prod.silver_curated_eres.flight flt on rt.flightkey = flt.flightkey\n",
    "\n",
    "        where 1=1 \n",
    "            and rt.chargeproduct = 'Ticket'\n",
    "            and rt.flight_dt between current_date() - 390 and current_date()\n",
    "            and rt.route in (\n",
    "            'MADEDI','EDIMAD','AMSNAP', 'NAPAMS', 'BCNMAN','MANBCN', 'NCELIS','LISNCE', \"EDITFS\",\"TFSEDI\", \"MANAGP\", \"AGPMAN\", \"MXPSUF\", \"SUFMXP\", \"MXPBRI\", \"BRIMXP\"\n",
    "            )\n",
    "\n",
    "        group by\n",
    "            rt.flightkey,\n",
    "            rt.route,\n",
    "            rt.charge_dt,\n",
    "            rt.flight_dt,\n",
    "            rt.chargeproduct,\n",
    "            flt.capacity, \n",
    "            rtmap.type, \n",
    "            rtmap.region\n",
    "    )\n",
    "\n",
    "    select * from rt_suite_aggregated\n",
    "\"\"\"\n",
    "\n",
    "df = spark.sql(sql).toPandas()"
   ]
  },
  {
   "cell_type": "code",
   "execution_count": 0,
   "metadata": {
    "application/vnd.databricks.v1+cell": {
     "cellMetadata": {
      "byteLimit": 2048000,
      "rowLimit": 10000
     },
     "inputWidgets": {},
     "nuid": "7ea7b8f4-7711-4e26-abb2-637771453f0e",
     "showTitle": false,
     "tableResultSettingsMap": {},
     "title": ""
    }
   },
   "outputs": [],
   "source": [
    "df[ 'charge_dt'] = pd.to_datetime(df['charge_dt'])\n",
    "df[ 'flight_dt'] = pd.to_datetime(df['flight_dt'])"
   ]
  },
  {
   "cell_type": "code",
   "execution_count": 0,
   "metadata": {
    "application/vnd.databricks.v1+cell": {
     "cellMetadata": {
      "byteLimit": 2048000,
      "rowLimit": 10000
     },
     "inputWidgets": {},
     "nuid": "0b4c2ca2-d06e-4af8-a885-34f5d493d46b",
     "showTitle": false,
     "tableResultSettingsMap": {},
     "title": ""
    }
   },
   "outputs": [],
   "source": [
    "df['week'] = df.flight_dt.dt.weekofyear\n",
    "df['week_on'] = df.flight_dt.dt.weekofyear % 2"
   ]
  },
  {
   "cell_type": "code",
   "execution_count": 0,
   "metadata": {
    "application/vnd.databricks.v1+cell": {
     "cellMetadata": {
      "byteLimit": 2048000,
      "rowLimit": 10000
     },
     "inputWidgets": {},
     "nuid": "caed79af-ceb3-4356-8f30-89523ad9100c",
     "showTitle": false,
     "tableResultSettingsMap": {},
     "title": ""
    }
   },
   "outputs": [],
   "source": [
    "g = df.groupby(\n",
    "    [\n",
    "     'flightkey', 'route', 'flight_dt', 'chargeproduct', \n",
    "     'type', 'region', 'week_on', 'week'\n",
    "    ]\n",
    ").agg(\n",
    "    {\n",
    "     'capacity': 'last',\n",
    "     'total_pax': 'sum',\n",
    "     'total_rev': 'sum'}\n",
    ").reset_index()"
   ]
  },
  {
   "cell_type": "code",
   "execution_count": 0,
   "metadata": {
    "application/vnd.databricks.v1+cell": {
     "cellMetadata": {
      "byteLimit": 2048000,
      "rowLimit": 10000
     },
     "inputWidgets": {},
     "nuid": "d24f799a-3139-4d74-8f3f-fc3e039874be",
     "showTitle": false,
     "tableResultSettingsMap": {},
     "title": ""
    }
   },
   "outputs": [],
   "source": [
    "df.groupby(\n",
    "    ['route', ]\n",
    ")"
   ]
  },
  {
   "cell_type": "code",
   "execution_count": 0,
   "metadata": {
    "application/vnd.databricks.v1+cell": {
     "cellMetadata": {
      "byteLimit": 2048000,
      "rowLimit": 10000
     },
     "inputWidgets": {},
     "nuid": "0a14ab0d-8b7c-4fdd-8dc1-5f346e98613d",
     "showTitle": false,
     "tableResultSettingsMap": {},
     "title": ""
    }
   },
   "outputs": [],
   "source": [
    "df.columns"
   ]
  },
  {
   "cell_type": "code",
   "execution_count": 0,
   "metadata": {
    "application/vnd.databricks.v1+cell": {
     "cellMetadata": {
      "byteLimit": 2048000,
      "rowLimit": 10000
     },
     "inputWidgets": {},
     "nuid": "5426fd21-65c8-4d36-9cdb-4a0bf7474033",
     "showTitle": false,
     "tableResultSettingsMap": {},
     "title": ""
    }
   },
   "outputs": [],
   "source": [
    "# data set work \n",
    "# Gather full dataset \n",
    "# create N random samples By route type \n",
    "# "
   ]
  },
  {
   "cell_type": "code",
   "execution_count": 0,
   "metadata": {
    "application/vnd.databricks.v1+cell": {
     "cellMetadata": {
      "byteLimit": 2048000,
      "rowLimit": 10000
     },
     "inputWidgets": {},
     "nuid": "55eca32c-de12-41b7-898b-4cc0a785ea60",
     "showTitle": false,
     "tableResultSettingsMap": {},
     "title": ""
    }
   },
   "outputs": [],
   "source": [
    "plt.plot(g.groupby('week').capacity.mean())"
   ]
  },
  {
   "cell_type": "code",
   "execution_count": 0,
   "metadata": {
    "application/vnd.databricks.v1+cell": {
     "cellMetadata": {},
     "inputWidgets": {},
     "nuid": "5a26d3f4-223d-413e-826e-d5ef6d0fbe5b",
     "showTitle": false,
     "tableResultSettingsMap": {},
     "title": ""
    }
   },
   "outputs": [],
   "source": []
  }
 ],
 "metadata": {
  "application/vnd.databricks.v1+notebook": {
   "computePreferences": null,
   "dashboards": [],
   "environmentMetadata": {
    "base_environment": "",
    "client": "2"
   },
   "language": "python",
   "notebookMetadata": {
    "pythonIndentUnit": 4
   },
   "notebookName": "EDA",
   "widgets": {}
  },
  "language_info": {
   "name": "python"
  }
 },
 "nbformat": 4,
 "nbformat_minor": 0
}
