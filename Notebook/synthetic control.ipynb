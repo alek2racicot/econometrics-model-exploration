{
 "cells": [
  {
   "cell_type": "code",
   "execution_count": 0,
   "metadata": {
    "application/vnd.databricks.v1+cell": {
     "cellMetadata": {
      "byteLimit": 2048000,
      "rowLimit": 10000
     },
     "inputWidgets": {},
     "nuid": "dc254859-8933-4f9e-bf8d-12bcd8b246ad",
     "showTitle": false,
     "tableResultSettingsMap": {},
     "title": ""
    }
   },
   "outputs": [],
   "source": [
    "import pandas as pd\n",
    "import numpy as np"
   ]
  },
  {
   "cell_type": "code",
   "execution_count": 0,
   "metadata": {
    "application/vnd.databricks.v1+cell": {
     "cellMetadata": {
      "byteLimit": 2048000,
      "rowLimit": 10000
     },
     "inputWidgets": {},
     "nuid": "fca68acf-3ca8-452d-807e-e2c6d39ecfe8",
     "showTitle": false,
     "tableResultSettingsMap": {},
     "title": ""
    }
   },
   "outputs": [],
   "source": [
    "df = spark.sql(\n",
    "    \"\"\"\n",
    "    select\n",
    "        rt.flightkey,\n",
    "        rt.route,\n",
    "        rt.flight_dt,\n",
    "        rt.chargeproduct,\n",
    "        flt.capacity,\n",
    "\n",
    "        -- route characteristics\n",
    "        rtmap.type, \n",
    "        rtmap.region,\n",
    "\n",
    "        -- statistics & metrics\n",
    "        sum(rt.unt_net) as total_pax,\n",
    "        sum(rt.rev_net) as total_rev\n",
    "        \n",
    "    from \n",
    "        data_experience_commercial.cbt_1423_rtsuite.master rt\n",
    "    join \n",
    "        data_prod.silver_sanezdb.routemap rtmap on rt.route = rtmap.route\n",
    "    join\n",
    "        data_prod.silver_curated_eres.flight flt on rt.flightkey = flt.flightkey\n",
    "\n",
    "    where 1=1 \n",
    "        and rt.chargeproduct = 'Ticket'\n",
    "        and rt.flight_dt between current_date() - 365 and current_date()\n",
    "\n",
    "    group by\n",
    "        rt.flightkey,\n",
    "        rt.route,\n",
    "        rt.flight_dt,\n",
    "        rt.chargeproduct,\n",
    "        flt.capacity, \n",
    "        rtmap.type, \n",
    "        rtmap.region\n",
    "    \"\"\"\n",
    ").toPandas()"
   ]
  },
  {
   "cell_type": "code",
   "execution_count": 0,
   "metadata": {
    "application/vnd.databricks.v1+cell": {
     "cellMetadata": {
      "byteLimit": 2048000,
      "rowLimit": 10000
     },
     "inputWidgets": {},
     "nuid": "c12c0465-d5b0-4076-a8f7-d341bdb8d9ea",
     "showTitle": false,
     "tableResultSettingsMap": {},
     "title": ""
    }
   },
   "outputs": [],
   "source": [
    "df['fligth_dt'] = pd.to_datetime(df['flight_dt']) # conversion datetime "
   ]
  },
  {
   "cell_type": "code",
   "execution_count": 0,
   "metadata": {
    "application/vnd.databricks.v1+cell": {
     "cellMetadata": {
      "byteLimit": 2048000,
      "rowLimit": 10000
     },
     "inputWidgets": {},
     "nuid": "c9eb635c-f08e-44da-bae4-d166aecd2380",
     "showTitle": false,
     "tableResultSettingsMap": {},
     "title": ""
    }
   },
   "outputs": [],
   "source": [
    "# pseudo_test sample\n",
    "df_test = df.loc[\n",
    "    df['flight_dt'] > pd.to_datetime('2024-11-01')\n",
    "]"
   ]
  },
  {
   "cell_type": "code",
   "execution_count": 0,
   "metadata": {
    "application/vnd.databricks.v1+cell": {
     "cellMetadata": {
      "byteLimit": 2048000,
      "rowLimit": 10000
     },
     "inputWidgets": {},
     "nuid": "41862afa-5113-4dcd-a7a5-ae79046ca344",
     "showTitle": false,
     "tableResultSettingsMap": {},
     "title": ""
    }
   },
   "outputs": [],
   "source": [
    "df_stats = df_test.groupby(\n",
    "    ['route', 'region', 'type']\n",
    ").agg(\n",
    "    {\n",
    "        'capacity': 'sum',\n",
    "        'total_pax': 'mean',\n",
    "        'total_rev': 'mean'\n",
    "    }\n",
    ").reset_index()"
   ]
  },
  {
   "cell_type": "code",
   "execution_count": 0,
   "metadata": {
    "application/vnd.databricks.v1+cell": {
     "cellMetadata": {
      "byteLimit": 2048000,
      "rowLimit": 10000
     },
     "inputWidgets": {},
     "nuid": "b8457fb1-7f8c-4a95-8d89-d8364e3a4548",
     "showTitle": false,
     "tableResultSettingsMap": {},
     "title": ""
    }
   },
   "outputs": [],
   "source": [
    "# Compute quantiles for each (region, type) group\n",
    "df_capacity_quantiles = df_stats.groupby(['region', 'type']).agg(\n",
    "    capacity_25th=('capacity', lambda x: x.quantile(0.25)),\n",
    "    capacity_50th=('capacity', lambda x: x.quantile(0.50)),\n",
    "    capacity_75th=('capacity', lambda x: x.quantile(0.75))\n",
    ").reset_index()\n",
    "\n",
    "# Merge back to the original df_stats\n",
    "df_stats = df_stats.merge(df_capacity_quantiles, on=['region', 'type'], how='left')\n",
    "\n",
    "def cap_group(row):\n",
    "    if row['capacity'] <= row['capacity_50th']:\n",
    "        return 'Low'\n",
    "    return 'High'\n",
    "df_stats['cap_group'] = df_stats.apply(cap_group, axis=1)\n",
    "\n",
    "df_stats = df_stats.loc[\n",
    "    ~df_stats.route.isin(('EDITFS', 'LISNCE', 'NAPAMS', 'MANBCN', 'MANAGP', 'MADEDI', 'MXPSUF', 'MXPBRI'))\n",
    "]"
   ]
  },
  {
   "cell_type": "code",
   "execution_count": 0,
   "metadata": {
    "application/vnd.databricks.v1+cell": {
     "cellMetadata": {},
     "inputWidgets": {},
     "nuid": "fd0f8507-3823-4c25-bb64-d9bbbe1be6c5",
     "showTitle": false,
     "tableResultSettingsMap": {},
     "title": ""
    }
   },
   "outputs": [],
   "source": [
    "class StratifiedSampler:\n",
    "    def __init__(self, df: pd.DataFrame, stratify_cols: list, seed: int = None):\n",
    "        \"\"\"\n",
    "        Initialize the stratified sampler.\n",
    "\n",
    "        :param df: Pandas DataFrame containing the data.\n",
    "        :param stratify_cols: List of columns to stratify by.\n",
    "        :param seed: Random seed for reproducibility.\n",
    "        \"\"\"\n",
    "        self.df = df.copy()\n",
    "        self.stratify_cols = stratify_cols\n",
    "        self.seed = seed\n",
    "        \n",
    "        if self.seed:\n",
    "            np.random.seed(self.seed)\n",
    "        \n",
    "        # Compute group sizes\n",
    "        self.strata_counts = self.df.groupby(self.stratify_cols).size().reset_index(name=\"count\")\n",
    "    \n",
    "    def sample(self, n: int = None, fixed_allocation: dict = None):\n",
    "        \"\"\"\n",
    "        Perform stratified sampling.\n",
    "\n",
    "        :param n: Total number of samples (proportional to group sizes).\n",
    "        :param fixed_allocation: Dictionary specifying exact samples per stratum.\n",
    "        :return: Sampled DataFrame.\n",
    "        \"\"\"\n",
    "        if n and fixed_allocation:\n",
    "            raise ValueError(\"Provide either 'n' for proportional sampling or 'fixed_allocation', not both.\")\n",
    "\n",
    "        df_sampled = pd.DataFrame()\n",
    "        \n",
    "        for _, row in self.strata_counts.iterrows():\n",
    "            stratum_filter = (self.df[self.stratify_cols] == row[self.stratify_cols].values).all(axis=1)\n",
    "            stratum_df = self.df[stratum_filter]\n",
    "\n",
    "            if fixed_allocation:\n",
    "                sample_size = fixed_allocation.get(tuple(row[self.stratify_cols]), 0)\n",
    "            else:\n",
    "                sample_size = int(row[\"count\"] * n / self.strata_counts[\"count\"].sum())\n",
    "\n",
    "            sampled_stratum = stratum_df.sample(n=sample_size, random_state=self.seed) if sample_size > 0 else pd.DataFrame()\n",
    "            df_sampled = pd.concat([df_sampled, sampled_stratum])\n",
    "\n",
    "        return df_sampled.reset_index(drop=True)\n",
    "    \n",
    "    def validate(self):\n",
    "        \"\"\"\n",
    "        Validate the stratification process.\n",
    "        \"\"\"\n",
    "        sampled_counts = self.sampled_df.groupby(self.stratify_cols).size().reset_index(name=\"sampled_count\")\n",
    "        merged = self.strata_counts.merge(sampled_counts, on=self.stratify_cols, how=\"left\").fillna(0)\n",
    "        return merged\n",
    "\n"
   ]
  },
  {
   "cell_type": "code",
   "execution_count": 0,
   "metadata": {
    "application/vnd.databricks.v1+cell": {
     "cellMetadata": {
      "byteLimit": 2048000,
      "rowLimit": 10000
     },
     "inputWidgets": {},
     "nuid": "d95a975f-ee7e-47a9-9188-301a737b08c7",
     "showTitle": false,
     "tableResultSettingsMap": {},
     "title": ""
    }
   },
   "outputs": [],
   "source": [
    "fixed_allocation = {\n",
    "    (\"Beach\", \"UK-Regions\", 'High'): 4,\n",
    "    (\"City\", \"Portugal\", \"Low\"): 2,\n",
    "    (\"City\", \"Italy\", \"High\"): 2,\n",
    "    (\"City\", \"UK-Regions\", \"High\"): 4,\n",
    "    (\"Domestic\", \"Italy\", \"High\"): 4\n",
    "}\n",
    "\n",
    "samples = []\n",
    "for i in range(10):\n",
    "    seed = np.random.randint(1000)\n",
    "    sampler = StratifiedSampler(df_stats, stratify_cols=[\"type\", \"region\", \"cap_group\"], seed=seed)\n",
    "    sampled_df = sampler.sample(fixed_allocation=fixed_allocation)\n",
    "    samples.append(sampled_df.route.to_list())"
   ]
  },
  {
   "cell_type": "code",
   "execution_count": 0,
   "metadata": {
    "application/vnd.databricks.v1+cell": {
     "cellMetadata": {
      "byteLimit": 2048000,
      "rowLimit": 10000
     },
     "inputWidgets": {},
     "nuid": "b6ade0b0-54d5-424e-8763-d61abaa843c2",
     "showTitle": false,
     "tableResultSettingsMap": {},
     "title": ""
    }
   },
   "outputs": [],
   "source": [
    "samples"
   ]
  },
  {
   "cell_type": "code",
   "execution_count": 0,
   "metadata": {
    "application/vnd.databricks.v1+cell": {
     "cellMetadata": {},
     "inputWidgets": {},
     "nuid": "62fc866a-e8d8-4a65-b343-dbf8407c271e",
     "showTitle": false,
     "tableResultSettingsMap": {},
     "title": ""
    }
   },
   "outputs": [],
   "source": []
  }
 ],
 "metadata": {
  "application/vnd.databricks.v1+notebook": {
   "computePreferences": null,
   "dashboards": [],
   "environmentMetadata": {
    "base_environment": "",
    "client": "2"
   },
   "language": "python",
   "notebookMetadata": {
    "pythonIndentUnit": 4
   },
   "notebookName": "synthetic control",
   "widgets": {}
  },
  "language_info": {
   "name": "python"
  }
 },
 "nbformat": 4,
 "nbformat_minor": 0
}
